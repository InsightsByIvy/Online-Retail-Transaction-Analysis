{
 "cells": [
  {
   "cell_type": "markdown",
   "id": "4849791f",
   "metadata": {},
   "source": [
    "Checking if there is any outlier\n"
   ]
  },
  {
   "cell_type": "code",
   "execution_count": null,
   "id": "595b1de6",
   "metadata": {},
   "outputs": [],
   "source": [
    "import numpy as np\n",
    "import pandas as pd\n",
    "import matplotlib.pyplot as plt\n",
    "import seaborn as sns\n",
    "from sklearn.pipeline import Pipeline"
   ]
  },
  {
   "cell_type": "code",
   "execution_count": 6,
   "id": "3ffba357",
   "metadata": {},
   "outputs": [
    {
     "data": {
      "text/html": [
       "<div>\n",
       "<style scoped>\n",
       "    .dataframe tbody tr th:only-of-type {\n",
       "        vertical-align: middle;\n",
       "    }\n",
       "\n",
       "    .dataframe tbody tr th {\n",
       "        vertical-align: top;\n",
       "    }\n",
       "\n",
       "    .dataframe thead th {\n",
       "        text-align: right;\n",
       "    }\n",
       "</style>\n",
       "<table border=\"1\" class=\"dataframe\">\n",
       "  <thead>\n",
       "    <tr style=\"text-align: right;\">\n",
       "      <th></th>\n",
       "      <th>InvoiceNo</th>\n",
       "      <th>StockCode</th>\n",
       "      <th>Description</th>\n",
       "      <th>Quantity</th>\n",
       "      <th>InvoiceDate</th>\n",
       "      <th>UnitPrice</th>\n",
       "      <th>CustomerID</th>\n",
       "      <th>Country</th>\n",
       "      <th>TotalTransactionValue</th>\n",
       "    </tr>\n",
       "  </thead>\n",
       "  <tbody>\n",
       "    <tr>\n",
       "      <th>315284</th>\n",
       "      <td>564817</td>\n",
       "      <td>22413</td>\n",
       "      <td>METAL SIGN TAKE IT OR LEAVE IT</td>\n",
       "      <td>1</td>\n",
       "      <td>2011-08-30 12:02:00</td>\n",
       "      <td>5.79</td>\n",
       "      <td>15287</td>\n",
       "      <td>United Kingdom</td>\n",
       "      <td>5.79</td>\n",
       "    </tr>\n",
       "    <tr>\n",
       "      <th>266371</th>\n",
       "      <td>560433</td>\n",
       "      <td>22378</td>\n",
       "      <td>WALL TIDY RETROSPOT</td>\n",
       "      <td>1</td>\n",
       "      <td>2011-07-18 15:49:00</td>\n",
       "      <td>1.63</td>\n",
       "      <td>15287</td>\n",
       "      <td>United Kingdom</td>\n",
       "      <td>1.63</td>\n",
       "    </tr>\n",
       "    <tr>\n",
       "      <th>153671</th>\n",
       "      <td>549964</td>\n",
       "      <td>21625</td>\n",
       "      <td>VINTAGE UNION JACK APRON</td>\n",
       "      <td>3</td>\n",
       "      <td>2011-04-13 14:12:00</td>\n",
       "      <td>6.95</td>\n",
       "      <td>13122</td>\n",
       "      <td>United Kingdom</td>\n",
       "      <td>20.85</td>\n",
       "    </tr>\n",
       "    <tr>\n",
       "      <th>313702</th>\n",
       "      <td>564749</td>\n",
       "      <td>22727</td>\n",
       "      <td>ALARM CLOCK BAKELIKE RED</td>\n",
       "      <td>4</td>\n",
       "      <td>2011-08-30 08:15:00</td>\n",
       "      <td>3.75</td>\n",
       "      <td>12708</td>\n",
       "      <td>Germany</td>\n",
       "      <td>15.00</td>\n",
       "    </tr>\n",
       "    <tr>\n",
       "      <th>91783</th>\n",
       "      <td>544202</td>\n",
       "      <td>22197</td>\n",
       "      <td>SMALL POPCORN HOLDER</td>\n",
       "      <td>2</td>\n",
       "      <td>2011-02-17 10:29:00</td>\n",
       "      <td>1.63</td>\n",
       "      <td>15287</td>\n",
       "      <td>United Kingdom</td>\n",
       "      <td>3.26</td>\n",
       "    </tr>\n",
       "  </tbody>\n",
       "</table>\n",
       "</div>"
      ],
      "text/plain": [
       "       InvoiceNo StockCode                      Description  Quantity  \\\n",
       "315284    564817     22413  METAL SIGN TAKE IT OR LEAVE IT          1   \n",
       "266371    560433     22378             WALL TIDY RETROSPOT          1   \n",
       "153671    549964     21625         VINTAGE UNION JACK APRON         3   \n",
       "313702    564749     22727        ALARM CLOCK BAKELIKE RED          4   \n",
       "91783     544202     22197             SMALL POPCORN HOLDER         2   \n",
       "\n",
       "                InvoiceDate  UnitPrice  CustomerID         Country  \\\n",
       "315284  2011-08-30 12:02:00       5.79       15287  United Kingdom   \n",
       "266371  2011-07-18 15:49:00       1.63       15287  United Kingdom   \n",
       "153671  2011-04-13 14:12:00       6.95       13122  United Kingdom   \n",
       "313702  2011-08-30 08:15:00       3.75       12708         Germany   \n",
       "91783   2011-02-17 10:29:00       1.63       15287  United Kingdom   \n",
       "\n",
       "        TotalTransactionValue  \n",
       "315284                   5.79  \n",
       "266371                   1.63  \n",
       "153671                  20.85  \n",
       "313702                  15.00  \n",
       "91783                    3.26  "
      ]
     },
     "execution_count": 6,
     "metadata": {},
     "output_type": "execute_result"
    }
   ],
   "source": [
    "df = pd.read_csv('../Data/Cleaned/Cleaned_Online_Retail.csv')\n",
    "df.sample(n=5, random_state = 42)"
   ]
  },
  {
   "cell_type": "markdown",
   "id": "92655aee",
   "metadata": {},
   "source": [
    "Checking basic summary stats\n"
   ]
  },
  {
   "cell_type": "code",
   "execution_count": 7,
   "id": "7b8cefd7",
   "metadata": {},
   "outputs": [
    {
     "data": {
      "text/html": [
       "<div>\n",
       "<style scoped>\n",
       "    .dataframe tbody tr th:only-of-type {\n",
       "        vertical-align: middle;\n",
       "    }\n",
       "\n",
       "    .dataframe tbody tr th {\n",
       "        vertical-align: top;\n",
       "    }\n",
       "\n",
       "    .dataframe thead th {\n",
       "        text-align: right;\n",
       "    }\n",
       "</style>\n",
       "<table border=\"1\" class=\"dataframe\">\n",
       "  <thead>\n",
       "    <tr style=\"text-align: right;\">\n",
       "      <th></th>\n",
       "      <th>Quantity</th>\n",
       "      <th>UnitPrice</th>\n",
       "    </tr>\n",
       "  </thead>\n",
       "  <tbody>\n",
       "    <tr>\n",
       "      <th>count</th>\n",
       "      <td>536641.000000</td>\n",
       "      <td>536641.000000</td>\n",
       "    </tr>\n",
       "    <tr>\n",
       "      <th>mean</th>\n",
       "      <td>9.620029</td>\n",
       "      <td>4.632656</td>\n",
       "    </tr>\n",
       "    <tr>\n",
       "      <th>std</th>\n",
       "      <td>219.130156</td>\n",
       "      <td>97.233118</td>\n",
       "    </tr>\n",
       "    <tr>\n",
       "      <th>min</th>\n",
       "      <td>-80995.000000</td>\n",
       "      <td>-11062.060000</td>\n",
       "    </tr>\n",
       "    <tr>\n",
       "      <th>25%</th>\n",
       "      <td>1.000000</td>\n",
       "      <td>1.250000</td>\n",
       "    </tr>\n",
       "    <tr>\n",
       "      <th>50%</th>\n",
       "      <td>3.000000</td>\n",
       "      <td>2.080000</td>\n",
       "    </tr>\n",
       "    <tr>\n",
       "      <th>75%</th>\n",
       "      <td>10.000000</td>\n",
       "      <td>4.130000</td>\n",
       "    </tr>\n",
       "    <tr>\n",
       "      <th>max</th>\n",
       "      <td>80995.000000</td>\n",
       "      <td>38970.000000</td>\n",
       "    </tr>\n",
       "  </tbody>\n",
       "</table>\n",
       "</div>"
      ],
      "text/plain": [
       "            Quantity      UnitPrice\n",
       "count  536641.000000  536641.000000\n",
       "mean        9.620029       4.632656\n",
       "std       219.130156      97.233118\n",
       "min    -80995.000000  -11062.060000\n",
       "25%         1.000000       1.250000\n",
       "50%         3.000000       2.080000\n",
       "75%        10.000000       4.130000\n",
       "max     80995.000000   38970.000000"
      ]
     },
     "execution_count": 7,
     "metadata": {},
     "output_type": "execute_result"
    }
   ],
   "source": [
    "df[[\"Quantity\", \"UnitPrice\"]].describe()"
   ]
  },
  {
   "cell_type": "markdown",
   "id": "7fa73749",
   "metadata": {},
   "source": [
    "Checking in boxplot visualisation the outliers."
   ]
  },
  {
   "cell_type": "code",
   "execution_count": 8,
   "id": "f8d5e30a",
   "metadata": {},
   "outputs": [
    {
     "data": {
      "image/png": "[encoded data removed]",
      "text/plain": [
       "<Figure size 640x480 with 1 Axes>"
      ]
     },
     "metadata": {},
     "output_type": "display_data"
    },
    {
     "data": {
      "image/png": "[encoded data removed]",
      "text/plain": [
       "<Figure size 640x480 with 1 Axes>"
      ]
     },
     "metadata": {},
     "output_type": "display_data"
    }
   ],
   "source": [
    "sns.boxplot(x=df['Quantity'])\n",
    "plt.show()\n",
    "sns.boxplot(x=df['UnitPrice'])\n",
    "plt.show()"
   ]
  },
  {
   "cell_type": "markdown",
   "id": "0a5c7d94",
   "metadata": {},
   "source": [
    "Removing negative prices and quantities"
   ]
  },
  {
   "cell_type": "code",
   "execution_count": 13,
   "id": "374cf428",
   "metadata": {},
   "outputs": [],
   "source": [
    "df = df[(df['Quantity'] > 0) & (df['Quantity'] <= 100)]\n",
    "df = df[(df['UnitPrice'] > 0) & (df['UnitPrice'] <= 100)]"
   ]
  },
  {
   "cell_type": "markdown",
   "id": "009a940e",
   "metadata": {},
   "source": [
    "Checking the distribution after removing negative quantities"
   ]
  },
  {
   "cell_type": "code",
   "execution_count": 14,
   "id": "862edc53",
   "metadata": {},
   "outputs": [
    {
     "data": {
      "text/plain": [
       "<Axes: >"
      ]
     },
     "execution_count": 14,
     "metadata": {},
     "output_type": "execute_result"
    },
    {
     "data": {
      "image/png": "[encoded data removed]",
      "text/plain": [
       "<Figure size 640x480 with 1 Axes>"
      ]
     },
     "metadata": {},
     "output_type": "display_data"
    }
   ],
   "source": [
    "df.boxplot(column=[\"Quantity\", \"UnitPrice\"])"
   ]
  },
  {
   "cell_type": "markdown",
   "id": "ec95e679",
   "metadata": {},
   "source": [
    "Checking the unique countries before visualisation in order to decide what chart will be used."
   ]
  },
  {
   "cell_type": "code",
   "execution_count": 16,
   "id": "d9187f82",
   "metadata": {},
   "outputs": [
    {
     "name": "stdout",
     "output_type": "stream",
     "text": [
      "['United Kingdom' 'France' 'Australia' 'Netherlands' 'Germany' 'Norway'\n",
      " 'EIRE' 'Switzerland' 'Spain' 'Poland' 'Portugal' 'Italy' 'Belgium'\n",
      " 'Lithuania' 'Japan' 'Iceland' 'Channel Islands' 'Denmark' 'Cyprus'\n",
      " 'Finland' 'Austria' 'Sweden' 'Bahrain' 'Israel' 'Greece' 'Hong Kong'\n",
      " 'Singapore' 'Lebanon' 'United Arab Emirates' 'Saudi Arabia'\n",
      " 'Czech Republic' 'Canada' 'Unspecified' 'Brazil' 'USA'\n",
      " 'European Community' 'Malta' 'RSA']\n"
     ]
    }
   ],
   "source": [
    "print(df['Country'].unique())\n"
   ]
  },
  {
   "cell_type": "code",
   "execution_count": null,
   "id": "53902067",
   "metadata": {},
   "outputs": [],
   "source": []
  }
 ],
 "metadata": {
  "kernelspec": {
   "display_name": ".venv",
   "language": "python",
   "name": "python3"
  },
  "language_info": {
   "codemirror_mode": {
    "name": "ipython",
    "version": 3
   },
   "file_extension": ".py",
   "mimetype": "text/x-python",
   "name": "python",
   "nbconvert_exporter": "python",
   "pygments_lexer": "ipython3",
   "version": "3.12.8"
  }
 },
 "nbformat": 4,
 "nbformat_minor": 5
}
